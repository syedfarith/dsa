{
  "nbformat": 4,
  "nbformat_minor": 0,
  "metadata": {
    "colab": {
      "provenance": [],
      "authorship_tag": "ABX9TyO8n5Pfcy1GzuP3LgLbQ1AF",
      "include_colab_link": true
    },
    "kernelspec": {
      "name": "python3",
      "display_name": "Python 3"
    },
    "language_info": {
      "name": "python"
    }
  },
  "cells": [
    {
      "cell_type": "markdown",
      "metadata": {
        "id": "view-in-github",
        "colab_type": "text"
      },
      "source": [
        "<a href=\"https://colab.research.google.com/github/syedfarith/dsa/blob/main/Prepare_DSA.ipynb\" target=\"_parent\"><img src=\"https://colab.research.google.com/assets/colab-badge.svg\" alt=\"Open In Colab\"/></a>"
      ]
    },
    {
      "cell_type": "code",
      "execution_count": null,
      "metadata": {
        "colab": {
          "base_uri": "https://localhost:8080/"
        },
        "id": "aB_cUQ-ptdNS",
        "outputId": "2f9cca25-1a4a-4aba-813f-aceb8845f43e"
      },
      "outputs": [
        {
          "output_type": "stream",
          "name": "stdout",
          "text": [
            "Even\n"
          ]
        }
      ],
      "source": [
        "def oddeven(num):\n",
        "  if num%2==0:\n",
        "    return \"Even\"\n",
        "  else:\n",
        "    return \"Odd\"\n",
        "\n",
        "print(oddeven(2))"
      ]
    },
    {
      "cell_type": "code",
      "source": [
        "def lastnum(num):\n",
        "  return abs(num)%10\n",
        "\n",
        "print(lastnum(1234))"
      ],
      "metadata": {
        "colab": {
          "base_uri": "https://localhost:8080/"
        },
        "id": "qTlQqHaXtm-z",
        "outputId": "12830067-2c0c-481c-c7ab-a6259d776066"
      },
      "execution_count": null,
      "outputs": [
        {
          "output_type": "stream",
          "name": "stdout",
          "text": [
            "4\n"
          ]
        }
      ]
    },
    {
      "cell_type": "code",
      "source": [
        "def countnum(num):\n",
        "  count=0\n",
        "  while num!=0:\n",
        "    num=num//10\n",
        "    count+=1\n",
        "  return count\n",
        "\n",
        "print(countnum(0))"
      ],
      "metadata": {
        "colab": {
          "base_uri": "https://localhost:8080/"
        },
        "id": "HvnUgrWHuIaH",
        "outputId": "fc9ab648-9ca0-4ff2-c3bd-c93b95343bd1"
      },
      "execution_count": null,
      "outputs": [
        {
          "output_type": "stream",
          "name": "stdout",
          "text": [
            "0\n"
          ]
        }
      ]
    },
    {
      "cell_type": "code",
      "source": [
        "def reversenum(num):\n",
        "  rev=0\n",
        "  while num!=0:\n",
        "    digit=num%10\n",
        "    rev=rev*10+digit\n",
        "    num=num//10\n",
        "  return rev\n",
        "print(reversenum(123))"
      ],
      "metadata": {
        "colab": {
          "base_uri": "https://localhost:8080/"
        },
        "id": "AgiTYWQ4ufre",
        "outputId": "7e5c99d9-e2c1-482c-b89e-8687abbdc407"
      },
      "execution_count": null,
      "outputs": [
        {
          "output_type": "stream",
          "name": "stdout",
          "text": [
            "321\n"
          ]
        }
      ]
    },
    {
      "cell_type": "code",
      "source": [
        "def findPower(base,expo):\n",
        "  return base**expo\n",
        "\n",
        "print(findPower(2,3))"
      ],
      "metadata": {
        "colab": {
          "base_uri": "https://localhost:8080/"
        },
        "id": "dXsL0XzovRcb",
        "outputId": "0035cd4e-3747-4218-afe5-5519e2a281b2"
      },
      "execution_count": null,
      "outputs": [
        {
          "output_type": "stream",
          "name": "stdout",
          "text": [
            "8\n"
          ]
        }
      ]
    },
    {
      "cell_type": "code",
      "source": [
        "def all_divisor(num):\n",
        "  divisor=[]\n",
        "  for i in range(1,num//2+1):\n",
        "    if num%i==0:\n",
        "      divisor.append(i)\n",
        "  divisor.append(num)\n",
        "  return divisor\n",
        "print(all_divisor(15))"
      ],
      "metadata": {
        "colab": {
          "base_uri": "https://localhost:8080/"
        },
        "id": "GsBD7fDswEZQ",
        "outputId": "c3bc51c5-18e1-496f-bc85-6728ff7e6027"
      },
      "execution_count": null,
      "outputs": [
        {
          "output_type": "stream",
          "name": "stdout",
          "text": [
            "[1, 3, 5, 15]\n"
          ]
        }
      ]
    },
    {
      "cell_type": "code",
      "source": [
        "def prime(num):\n",
        "  for i in range(2,num//2+1):\n",
        "    if num%i==0:\n",
        "      return \"Not a prime\"\n",
        "  else:\n",
        "    return \"prime\"\n",
        "\n",
        "print(prime(6))"
      ],
      "metadata": {
        "colab": {
          "base_uri": "https://localhost:8080/"
        },
        "id": "i33TA8g-xEJI",
        "outputId": "1da73529-d759-4c67-c121-8e791de0d85d"
      },
      "execution_count": null,
      "outputs": [
        {
          "output_type": "stream",
          "name": "stdout",
          "text": [
            "2\n",
            "Not a prime\n"
          ]
        }
      ]
    },
    {
      "cell_type": "code",
      "source": [
        "def is_amstrong(num):\n",
        "  power=len(str(num))\n",
        "  temp=num\n",
        "  total=0\n",
        "  while temp>0:\n",
        "    digit=temp%10\n",
        "    total+=digit**power\n",
        "    temp=temp//10\n",
        "  return num==total\n",
        "\n",
        "print(is_amstrong(1531))"
      ],
      "metadata": {
        "colab": {
          "base_uri": "https://localhost:8080/"
        },
        "id": "U00M07VnyibL",
        "outputId": "965b016d-ab06-463a-f9a4-b66a78a09c8e"
      },
      "execution_count": null,
      "outputs": [
        {
          "output_type": "stream",
          "name": "stdout",
          "text": [
            "False\n"
          ]
        }
      ]
    },
    {
      "cell_type": "code",
      "source": [
        "def ispalindrom(num):\n",
        "  rev=0\n",
        "  temp=num\n",
        "  while temp>0:\n",
        "    rev=rev*10+temp%10\n",
        "    temp=temp//10\n",
        "  return num==rev\n",
        "\n",
        "print(ispalindrom(1232))"
      ],
      "metadata": {
        "colab": {
          "base_uri": "https://localhost:8080/"
        },
        "id": "k-VpXMljz9Jj",
        "outputId": "ba88ca73-6aa5-4383-bccc-a0bc088c23d3"
      },
      "execution_count": null,
      "outputs": [
        {
          "output_type": "stream",
          "name": "stdout",
          "text": [
            "False\n"
          ]
        }
      ]
    },
    {
      "cell_type": "code",
      "source": [
        "def root(num):\n",
        "  current_root=0\n",
        "  for i in range(2,(num//2)+1):\n",
        "      if i*i<=num:\n",
        "        current_root = i\n",
        "      else:\n",
        "        break\n",
        "  return current_root\n",
        "\n",
        "print(root(26))"
      ],
      "metadata": {
        "colab": {
          "base_uri": "https://localhost:8080/"
        },
        "id": "iS7DNECY1P2G",
        "outputId": "4774ee2a-c27e-43ae-d86a-bf4156095629"
      },
      "execution_count": null,
      "outputs": [
        {
          "output_type": "stream",
          "name": "stdout",
          "text": [
            "5\n"
          ]
        }
      ]
    },
    {
      "cell_type": "code",
      "source": [
        "import math\n",
        "def isPerfect(num):\n",
        "  divisor=[]\n",
        "  for i in range(1,int(math.sqrt(num))+1):\n",
        "    if num%i==0:\n",
        "      divisor.append(i)\n",
        "  return sum(divisor)==num\n",
        "\n",
        "print(isPerfect(29))"
      ],
      "metadata": {
        "colab": {
          "base_uri": "https://localhost:8080/"
        },
        "id": "nexqABmS7Q6I",
        "outputId": "14e0ace2-3caa-499f-ed05-24883e933aec"
      },
      "execution_count": null,
      "outputs": [
        {
          "output_type": "stream",
          "name": "stdout",
          "text": [
            "False\n"
          ]
        }
      ]
    },
    {
      "cell_type": "code",
      "source": [
        "def gcd(a,b):\n",
        "  while b:\n",
        "    a,b=b,a%b\n",
        "  return a\n",
        "print(gcd(48, 18))"
      ],
      "metadata": {
        "colab": {
          "base_uri": "https://localhost:8080/"
        },
        "id": "1MRH1O3-9abB",
        "outputId": "dcfc08a8-ad6a-470a-81bd-14b6f61eb645"
      },
      "execution_count": null,
      "outputs": [
        {
          "output_type": "stream",
          "name": "stdout",
          "text": [
            "6\n"
          ]
        }
      ]
    },
    {
      "cell_type": "code",
      "source": [
        "def minmax(arr):\n",
        "  min=arr[0]\n",
        "  max=arr[0]\n",
        "  for i in range(len(arr)):\n",
        "    if arr[i]>max:\n",
        "      max=arr[i]\n",
        "  for i in range(len(arr)):\n",
        "    if arr[i]<min:\n",
        "      min=arr[i]\n",
        "  return min,max\n",
        "arr=[5,4,3,2,1]\n",
        "print(minmax(arr))"
      ],
      "metadata": {
        "colab": {
          "base_uri": "https://localhost:8080/"
        },
        "id": "k-3Z1AUm9t5O",
        "outputId": "2d4f49e4-1d58-41ce-c78d-46de63e0f618"
      },
      "execution_count": null,
      "outputs": [
        {
          "output_type": "stream",
          "name": "stdout",
          "text": [
            "(1, 5)\n"
          ]
        }
      ]
    },
    {
      "cell_type": "code",
      "source": [
        "def search(arr,target):\n",
        "  return target in arr\n",
        "\n",
        "arr=[1,2,3,4,5]\n",
        "target=6\n",
        "print(search(arr,target))"
      ],
      "metadata": {
        "colab": {
          "base_uri": "https://localhost:8080/"
        },
        "id": "uDFHbAHm_Wvn",
        "outputId": "954e4371-3182-438e-867d-9ebfc00dc9b1"
      },
      "execution_count": null,
      "outputs": [
        {
          "output_type": "stream",
          "name": "stdout",
          "text": [
            "False\n"
          ]
        }
      ]
    },
    {
      "cell_type": "code",
      "source": [
        "def search(arr):\n",
        "  for i in range(len(arr)):\n",
        "    if arr[i+1]-arr[i]>1:\n",
        "      return arr[i]+1\n",
        "\n",
        "arr=[2,4,5]\n",
        "print(search(arr))"
      ],
      "metadata": {
        "colab": {
          "base_uri": "https://localhost:8080/"
        },
        "id": "qvqrygTF_6Jb",
        "outputId": "c1045040-b7f8-4ec1-f7c6-957d13f5d439"
      },
      "execution_count": null,
      "outputs": [
        {
          "output_type": "stream",
          "name": "stdout",
          "text": [
            "3\n"
          ]
        }
      ]
    },
    {
      "cell_type": "code",
      "source": [
        "def findrepeat(arr):\n",
        "  seen=set()\n",
        "  duplicate=set()\n",
        "  for i in range(len(arr)):\n",
        "    if arr[i] in seen:\n",
        "      duplicate.add(arr[i])\n",
        "    else:\n",
        "      seen.add(arr[i])\n",
        "  return list(duplicate)\n",
        "\n",
        "arr=[2,4,4,5,2,5]\n",
        "print(findrepeat(arr))"
      ],
      "metadata": {
        "colab": {
          "base_uri": "https://localhost:8080/"
        },
        "id": "CL5Aq_nfnzkN",
        "outputId": "11ea6600-c0a2-4fc5-f0cd-a902e1fdaf74"
      },
      "execution_count": null,
      "outputs": [
        {
          "output_type": "stream",
          "name": "stdout",
          "text": [
            "[2, 4, 5]\n"
          ]
        }
      ]
    },
    {
      "cell_type": "code",
      "source": [
        "def issame(arr1,arr2):\n",
        "  return arr1==arr2\n",
        "\n",
        "arr1=[1,2,3]\n",
        "arr2=[1,2,3]\n",
        "print(issame(arr1,arr2))"
      ],
      "metadata": {
        "colab": {
          "base_uri": "https://localhost:8080/"
        },
        "id": "e1_ufb1Vokie",
        "outputId": "99ff97bf-a302-415a-a24d-563d4538ca6f"
      },
      "execution_count": null,
      "outputs": [
        {
          "output_type": "stream",
          "name": "stdout",
          "text": [
            "True\n"
          ]
        }
      ]
    },
    {
      "cell_type": "code",
      "source": [
        "def countElement(arr):\n",
        "    freq = {}\n",
        "    for el in arr:\n",
        "        freq[el] = freq.get(el, 0) + 1\n",
        "    return freq\n",
        "\n",
        "arrays = [[2,4,4,5,2,5], [1,1,2,3,3]]\n",
        "result = map(countElement, arrays)\n",
        "print(list(result))\n"
      ],
      "metadata": {
        "colab": {
          "base_uri": "https://localhost:8080/"
        },
        "id": "tTEd63A7pmCd",
        "outputId": "ac539f6f-e67c-41c9-a623-363beaa6c43b"
      },
      "execution_count": null,
      "outputs": [
        {
          "output_type": "stream",
          "name": "stdout",
          "text": [
            "[{2: 2, 4: 2, 5: 2}, {1: 2, 2: 1, 3: 2}]\n"
          ]
        }
      ]
    },
    {
      "cell_type": "code",
      "source": [
        "def findthirdlargest(arr):\n",
        "  largest=secondlargest=thirdlargest=float('-inf')\n",
        "  for i in arr:\n",
        "    if i>largest:\n",
        "      thirdlargest = secondlargest\n",
        "      secondlargest=largest\n",
        "      largest=i\n",
        "    elif i>secondlargest and i!=largest:\n",
        "      thirdlargest=secondlargest\n",
        "      secondlargest=i\n",
        "    elif i>thirdlargest and i!=largest and i!=secondlargest:\n",
        "      thirdlargest=i\n",
        "  return thirdlargest\n",
        "\n",
        "arr=[1,2,3,4]\n",
        "result=findthirdlargest(arr)\n",
        "if result ==float('-inf'):\n",
        "  print(\"No third largest\")\n",
        "else:\n",
        "   print(result)"
      ],
      "metadata": {
        "colab": {
          "base_uri": "https://localhost:8080/"
        },
        "id": "luDkuxSMrNpS",
        "outputId": "b8a424cc-30b5-494f-c3f6-44e8dbf5aab4"
      },
      "execution_count": null,
      "outputs": [
        {
          "output_type": "stream",
          "name": "stdout",
          "text": [
            "2\n"
          ]
        }
      ]
    },
    {
      "cell_type": "code",
      "source": [
        "def sorting(arr):\n",
        "  new_arr=[]\n",
        "  for i in range(len(arr)):\n",
        "    a=min(arr)\n",
        "    new_arr.append(a)\n",
        "    arr.remove(a)\n",
        "  return new_arr\n",
        "\n",
        "arr=[0, 2, 1, 2, 0, 1]\n",
        "print(sorting(arr))\n"
      ],
      "metadata": {
        "colab": {
          "base_uri": "https://localhost:8080/"
        },
        "id": "7HlN1E8wX9k8",
        "outputId": "2dc04f53-4f79-4f79-87c6-e9dd8ede2a2f"
      },
      "execution_count": null,
      "outputs": [
        {
          "output_type": "stream",
          "name": "stdout",
          "text": [
            "[0, 0, 1, 1, 2, 2]\n"
          ]
        }
      ]
    },
    {
      "cell_type": "code",
      "source": [
        "def rotate_one(arr,k):\n",
        "  n=len(arr)\n",
        "\n",
        "  for i in range(k):\n",
        "    last=arr[-1]\n",
        "    for i in range(n-1,0,-1):\n",
        "      arr[i]=arr[i-1]\n",
        "    arr[0]=last\n",
        "  return arr\n",
        "\n",
        "arr=[1,2,3,4,5]\n",
        "print(rotate_one(arr,k=1))"
      ],
      "metadata": {
        "colab": {
          "base_uri": "https://localhost:8080/"
        },
        "id": "2oa8qXE4Zm0D",
        "outputId": "4f16fff5-ea45-4632-fe9c-7fb14d4f8dc8"
      },
      "execution_count": null,
      "outputs": [
        {
          "output_type": "stream",
          "name": "stdout",
          "text": [
            "[5, 1, 2, 3, 4]\n"
          ]
        }
      ]
    },
    {
      "cell_type": "code",
      "source": [
        "def issubset(arr1,arr2):\n",
        "  set1=set(arr1)\n",
        "  for i in range(len(arr2)):\n",
        "    if arr2[i] not in set1:\n",
        "      return \"Not a subset\"\n",
        "  else:\n",
        "    return \"Subset\"\n",
        "\n",
        "arr1 = [1, 2, 3, 4, 5]\n",
        "arr2 = [2, 6]\n",
        "\n",
        "print(issubset(arr1,arr2))"
      ],
      "metadata": {
        "colab": {
          "base_uri": "https://localhost:8080/"
        },
        "id": "DnEGikTiclOk",
        "outputId": "28428063-2482-4726-e7e7-d7be2e4602b1"
      },
      "execution_count": null,
      "outputs": [
        {
          "output_type": "stream",
          "name": "stdout",
          "text": [
            "Not a subset\n"
          ]
        }
      ]
    },
    {
      "cell_type": "code",
      "source": [
        "#sorted approach\n",
        "\n",
        "def findpair(arr,sum):\n",
        "  left=0\n",
        "  right=len(arr)-1\n",
        "  while left<right:\n",
        "    total=arr[left]+arr[right]\n",
        "    if total==sum:\n",
        "      return arr[left],arr[right]\n",
        "    else:\n",
        "      if total>sum:\n",
        "        right-=1\n",
        "      else:\n",
        "        left+=1\n",
        "arr=[1,2,3,4]\n",
        "# print(findpair(arr,sum=7))\n",
        "\n",
        "\n",
        "#unsorted approach\n",
        "def findpair(arr, target):\n",
        "    seen = set(arr)\n",
        "    for num in arr:\n",
        "        if target - num in seen:\n",
        "            return num, target - num\n",
        "\n",
        "    return None\n",
        "arr=[4, 1, 2, 3]\n",
        "print(findpair(arr,3))"
      ],
      "metadata": {
        "colab": {
          "base_uri": "https://localhost:8080/"
        },
        "id": "bRz0GyGEd-LW",
        "outputId": "28111166-8f98-4169-fc78-f620143472dd"
      },
      "execution_count": null,
      "outputs": [
        {
          "output_type": "stream",
          "name": "stdout",
          "text": [
            "(1, 2)\n"
          ]
        }
      ]
    },
    {
      "cell_type": "code",
      "source": [
        "#3sum\n",
        "\n",
        "def tsum(arr,target):\n",
        "    for i in range(len(arr)):\n",
        "      for j in range(i):\n",
        "        for k in range(j):\n",
        "          if arr[i]+arr[j]+arr[k]==target:\n",
        "            return arr[i],arr[j],arr[k]\n",
        "\n",
        "arr=[4, 1, 2, 3]\n",
        "print(tsum(arr,7))\n",
        "\n",
        "\n",
        "#efficient method\n",
        "def tzs(arr,k):\n",
        "    arr.sort()\n",
        "    result = []\n",
        "    n = len(arr)\n",
        "    for i in range(n - 2):\n",
        "        left = i + 1\n",
        "        right = n - 1\n",
        "        while left < right:\n",
        "            total = arr[i] + arr[left] + arr[right]\n",
        "            if total == k:\n",
        "                result.append((arr[i], arr[left], arr[right]))\n",
        "                left += 1\n",
        "                right -= 1\n",
        "            elif total < k:\n",
        "                left += 1\n",
        "            else:\n",
        "                right -= 1\n",
        "    return result\n",
        "\n",
        "arr = [2, -3, 1, 0, -1, 1]\n",
        "print(tzs(arr,4))\n"
      ],
      "metadata": {
        "colab": {
          "base_uri": "https://localhost:8080/"
        },
        "id": "NN-t6PGMhfMX",
        "outputId": "e862267e-d5db-4adb-e54a-cef44a4a3115"
      },
      "execution_count": null,
      "outputs": [
        {
          "output_type": "stream",
          "name": "stdout",
          "text": [
            "(2, 1, 4)\n"
          ]
        }
      ]
    },
    {
      "cell_type": "code",
      "source": [
        "def union(arr1,arr2):\n",
        "  return set(arr1).union(set(arr2))\n",
        "\n",
        "arr1 = [1, 2, 3, 4, 5]\n",
        "arr2 = [2, 6]\n",
        "\n",
        "print(union(arr1,arr2))"
      ],
      "metadata": {
        "colab": {
          "base_uri": "https://localhost:8080/"
        },
        "id": "Ww1tivSu_eiG",
        "outputId": "9929f726-8c29-446d-aa64-9c0d32ce71ac"
      },
      "execution_count": null,
      "outputs": [
        {
          "output_type": "stream",
          "name": "stdout",
          "text": [
            "{1, 2, 3, 4, 5, 6}\n"
          ]
        }
      ]
    },
    {
      "cell_type": "code",
      "source": [
        "def intersection(arr1,arr2):\n",
        "  return set(arr1).intersection(set(arr2))\n",
        "\n",
        "arr1 = [1, 2, 3, 4, 5]\n",
        "arr2 = [2, 6]\n",
        "\n",
        "print(intersection(arr1,arr2))"
      ],
      "metadata": {
        "colab": {
          "base_uri": "https://localhost:8080/"
        },
        "id": "oF6blf1TAZur",
        "outputId": "837e15ae-c4cb-4b27-bb1e-3ba31a4bb41a"
      },
      "execution_count": null,
      "outputs": [
        {
          "output_type": "stream",
          "name": "stdout",
          "text": [
            "{2}\n"
          ]
        }
      ]
    },
    {
      "cell_type": "code",
      "source": [
        "#unsorted (to preseve order)\n",
        "def removeduplicate(arr):\n",
        "  seen=set()\n",
        "  result=[]\n",
        "  for i in arr:\n",
        "    if i not in seen:\n",
        "      result.append(i)\n",
        "      seen.add(i)\n",
        "  return result\n",
        "\n",
        "arr = [1, 1, 2, 2, 3, 3, 4]\n",
        "\n",
        "print(removeduplicate(arr))\n",
        "\n",
        "\n",
        "def remove_duplicates_sorted(arr):\n",
        "    if not arr:\n",
        "        return 0  # empty array\n",
        "\n",
        "    j = 0  # index of last unique element\n",
        "    for i in range(1, len(arr)):\n",
        "        if arr[i] != arr[j]:  # found new unique\n",
        "            j += 1\n",
        "            arr[j] = arr[i]\n",
        "\n",
        "    return arr[:j+1]  # return only unique part\n",
        "\n",
        "\n",
        "arr = [1, 1, 2, 2, 3, 3, 4]\n",
        "print(remove_duplicates_sorted(arr))  # [1, 2, 3, 4]\n"
      ],
      "metadata": {
        "colab": {
          "base_uri": "https://localhost:8080/"
        },
        "id": "99cwdplvAzl_",
        "outputId": "05a11387-629f-4a7c-e501-d7e467030fb8"
      },
      "execution_count": null,
      "outputs": [
        {
          "output_type": "stream",
          "name": "stdout",
          "text": [
            "[1, 2, 3, 4]\n",
            "[1, 2, 3, 4]\n"
          ]
        }
      ]
    },
    {
      "cell_type": "code",
      "source": [
        "def kthelement(arr1,arr2,k):\n",
        "  merge=sorted(arr1+arr2)\n",
        "  return merge[k-1]\n",
        "\n",
        "arr1 = [2, 3, 6, 7, 9]\n",
        "arr2 = [1, 4, 8, 10]\n",
        "k = 5\n",
        "print(kthelement(arr1,arr2,k))\n"
      ],
      "metadata": {
        "colab": {
          "base_uri": "https://localhost:8080/"
        },
        "id": "lzzzXOe7Dg_w",
        "outputId": "909cff1a-36c5-4f0d-b1af-2b4e08248384"
      },
      "execution_count": null,
      "outputs": [
        {
          "output_type": "stream",
          "name": "stdout",
          "text": [
            "6\n"
          ]
        }
      ]
    },
    {
      "cell_type": "code",
      "source": [
        "def tzs(arr):\n",
        "    arr.sort()\n",
        "    result = []\n",
        "    n = len(arr)\n",
        "    for i in range(n - 2):\n",
        "        left = i + 1\n",
        "        right = n - 1\n",
        "        while left < right:\n",
        "            total = arr[i] + arr[left] + arr[right]\n",
        "            if total == 0:\n",
        "                result.append((arr[i], arr[left], arr[right]))\n",
        "                left += 1\n",
        "                right -= 1\n",
        "            elif total < 0:\n",
        "                left += 1\n",
        "            else:\n",
        "                right -= 1\n",
        "    return result\n",
        "\n",
        "arr = [2, -3, 1, 0, -1, 1]\n",
        "print(tzs(arr))\n"
      ],
      "metadata": {
        "colab": {
          "base_uri": "https://localhost:8080/"
        },
        "id": "pYTqJhlmPmX8",
        "outputId": "6c21e5da-367c-4559-f901-4b9538f11ac3"
      },
      "execution_count": null,
      "outputs": [
        {
          "output_type": "stream",
          "name": "stdout",
          "text": [
            "[(-3, 1, 2), (-1, 0, 1)]\n"
          ]
        }
      ]
    },
    {
      "cell_type": "code",
      "source": [
        "def counttriplet(arr):\n",
        "  arr_set=set(arr)\n",
        "  triplet=[]\n",
        "  for i in range(len(arr)):\n",
        "    for j in range(i+1, len(arr)):\n",
        "      sum=arr[i]+arr[j]\n",
        "      if sum in arr_set:\n",
        "        triplet.append((arr[i],arr[j],sum))\n",
        "\n",
        "  return triplet,len(triplet)\n",
        "\n",
        "arr = [2, 3, 4, 6, 8, 10]\n",
        "print(counttriplet(arr))\n",
        "\n"
      ],
      "metadata": {
        "colab": {
          "base_uri": "https://localhost:8080/"
        },
        "id": "jAZODVZ0VMCO",
        "outputId": "e050fe54-a5f2-4fc6-95bd-9849fe8fe853"
      },
      "execution_count": null,
      "outputs": [
        {
          "output_type": "stream",
          "name": "stdout",
          "text": [
            "([(2, 4, 6), (2, 6, 8), (2, 8, 10), (4, 6, 10)], 4)\n"
          ]
        }
      ]
    },
    {
      "cell_type": "code",
      "source": [
        "def longsubarray(arr,k):\n",
        "  left=0\n",
        "  sum=0\n",
        "  max_len=0\n",
        "  for right in range(len(arr)):\n",
        "    sum+=arr[right]\n",
        "    while sum>k and left<=right:\n",
        "      sum-=arr[left]\n",
        "      left+=1\n",
        "    if sum==k:\n",
        "      max_len=max(max_len, right - left + 1)\n",
        "  return max_len\n",
        "\n",
        "arr = [2, 3, 4, 6, 8, 10]\n",
        "print(longsubarray(arr, 13))  # Output: 2 ([3,4])"
      ],
      "metadata": {
        "colab": {
          "base_uri": "https://localhost:8080/"
        },
        "id": "yORRak15bkMy",
        "outputId": "49c586ac-1717-40bf-845f-78b295eb4cfd"
      },
      "execution_count": null,
      "outputs": [
        {
          "output_type": "stream",
          "name": "stdout",
          "text": [
            "3\n"
          ]
        }
      ]
    },
    {
      "cell_type": "code",
      "source": [
        "def raintrap(arr):\n",
        "  total=0\n",
        "  n=len(arr)\n",
        "  #method 1\n",
        "  max_left=[0]*n\n",
        "  max_left[0]=arr[0]\n",
        "  for i in range(1,n):\n",
        "    max_left[i]=max(max_left[i-1],arr[i])\n",
        "\n",
        "  #method 2\n",
        "  rvalue=arr[-1]\n",
        "  max_right=[]\n",
        "  for i in range(n-1, -1, -1):\n",
        "    rvalue=max(rvalue,arr[i])\n",
        "    max_right.append(rvalue)\n",
        "  max_right.reverse()\n",
        "\n",
        "  for i in range(len(arr)):\n",
        "    count=min(max_left[i], max_right[i]) -arr[i]\n",
        "    total+=count\n",
        "  return total\n",
        "\n",
        "arr = [3, 0, 2, 0, 4]\n",
        "print(raintrap(arr))"
      ],
      "metadata": {
        "colab": {
          "base_uri": "https://localhost:8080/"
        },
        "id": "2xnT-fHCcTrJ",
        "outputId": "f174bfba-ba1f-4e37-fbc2-ea32af285006"
      },
      "execution_count": null,
      "outputs": [
        {
          "output_type": "stream",
          "name": "stdout",
          "text": [
            "7\n"
          ]
        }
      ]
    },
    {
      "cell_type": "code",
      "source": [
        "from collections import Counter\n",
        "def majority(arr):\n",
        "  n=len(arr)\n",
        "  boundary=n/2\n",
        "  count=Counter(arr)\n",
        "\n",
        "  for key,value in count.items():\n",
        "    if value>boundary:\n",
        "      return f\"{key} is majority elements\"\n",
        "\n",
        "\n",
        "\n",
        "arr = [2, 2, 1, 1, 2, 2, 2]\n",
        "print(majority(arr))"
      ],
      "metadata": {
        "colab": {
          "base_uri": "https://localhost:8080/"
        },
        "id": "-RTf3V4Ipf0p",
        "outputId": "decfd2f6-50f6-4bfb-9524-971500a21cf7"
      },
      "execution_count": null,
      "outputs": [
        {
          "output_type": "stream",
          "name": "stdout",
          "text": [
            "2 is majority elements\n"
          ]
        }
      ]
    },
    {
      "cell_type": "code",
      "source": [
        "def majority_element(arr):\n",
        "    candidate, count = None, 0\n",
        "\n",
        "    for num in arr:\n",
        "        if count == 0:\n",
        "            candidate, count = num, 1\n",
        "        elif num == candidate:\n",
        "            count += 1\n",
        "        else:\n",
        "            count -= 1\n",
        "\n",
        "    if arr.count(candidate) > len(arr) // 2:\n",
        "        return candidate\n",
        "    else:\n",
        "        return None\n",
        "\n",
        "\n",
        "\n",
        "arr = [2, 2, 1, 1, 2, 2, 2]\n",
        "print(majority_element(arr))  # Output: 2\n"
      ],
      "metadata": {
        "colab": {
          "base_uri": "https://localhost:8080/"
        },
        "id": "BEi06WyFq8mp",
        "outputId": "70b46d9c-e19e-45e7-c555-6939c481e2dd"
      },
      "execution_count": null,
      "outputs": [
        {
          "output_type": "stream",
          "name": "stdout",
          "text": [
            "2\n"
          ]
        }
      ]
    },
    {
      "cell_type": "code",
      "source": [
        "#kadane\n",
        "\n",
        "def kadane(arr):\n",
        "  curr=arr[0]\n",
        "  max_sum=arr[0]\n",
        "  for i in range(1,len(arr)):\n",
        "    curr=max(arr[i],curr+arr[i])\n",
        "    max_sum=max(curr,max_sum)\n",
        "  return max_sum\n",
        "\n",
        "arr = [-2, 1, -3, 4, -1, 2, 1, -5, 4]\n",
        "print(kadane(arr))"
      ],
      "metadata": {
        "colab": {
          "base_uri": "https://localhost:8080/"
        },
        "id": "m3ag_87msqvM",
        "outputId": "6e877d0d-0ab7-4d14-cd31-9d1de92a7bb7"
      },
      "execution_count": null,
      "outputs": [
        {
          "output_type": "stream",
          "name": "stdout",
          "text": [
            "6\n"
          ]
        }
      ]
    },
    {
      "cell_type": "code",
      "source": [
        "def inversions(arr):\n",
        "  result=[]\n",
        "  for i in range(len(arr)):\n",
        "    for j in range(i+1,len(arr)):\n",
        "      if arr[i] > arr[j]:\n",
        "        result.append((arr[i],arr[j]))\n",
        "  return result\n",
        "\n",
        "arr = [2, 4, 1, 3, 5]\n",
        "print(inversions(arr))"
      ],
      "metadata": {
        "colab": {
          "base_uri": "https://localhost:8080/"
        },
        "id": "bfvTtiqat5r1",
        "outputId": "5affb2be-d5c4-4e55-8a82-32a17f6277a4"
      },
      "execution_count": null,
      "outputs": [
        {
          "output_type": "stream",
          "name": "stdout",
          "text": [
            "[(2, 1), (4, 1), (4, 3)]\n"
          ]
        }
      ]
    },
    {
      "cell_type": "code",
      "source": [
        "def merge_intervas(arr):\n",
        "  arr.sort(key=lambda x:x[0])\n",
        "  merged=[arr[0]]\n",
        "  for i in range(1,len(arr)):\n",
        "    last=merged[-1]\n",
        "    current=arr[i]\n",
        "\n",
        "    if current[0] <= last[1]:\n",
        "      merged[-1][1]=max(current[1],last[1])\n",
        "    else:\n",
        "      merged.append(current)\n",
        "  return merged\n",
        "intervals = [[1,3], [2,6], [8,10], [15,18]]\n",
        "print(merge_intervas(intervals))"
      ],
      "metadata": {
        "colab": {
          "base_uri": "https://localhost:8080/"
        },
        "id": "XaIfHhUbYXL4",
        "outputId": "c0d429e8-1971-4cae-b52f-b4ef7159f117"
      },
      "execution_count": null,
      "outputs": [
        {
          "output_type": "stream",
          "name": "stdout",
          "text": [
            "[[1, 6], [8, 10], [15, 18]]\n"
          ]
        }
      ]
    },
    {
      "cell_type": "code",
      "source": [
        "#max product of subarray\n",
        "def maxProd(arr):\n",
        "    max_prod = arr[0]\n",
        "    min_prod = arr[0]\n",
        "    result = arr[0]\n",
        "\n",
        "    for i in range(1, len(arr)):\n",
        "        if arr[i] < 0:\n",
        "            max_prod, min_prod = min_prod, max_prod\n",
        "\n",
        "        max_prod = max(arr[i], max_prod * arr[i])\n",
        "        min_prod = min(arr[i], min_prod * arr[i])\n",
        "\n",
        "        result = max(result, max_prod)\n",
        "\n",
        "    return result\n",
        "\n",
        "\n",
        "arr = [2, 3, -2, 4]\n",
        "print(maxProd(arr))"
      ],
      "metadata": {
        "colab": {
          "base_uri": "https://localhost:8080/"
        },
        "id": "yC1xgRoRbPa4",
        "outputId": "145e2e32-edde-46b6-cdfa-d1268076e4ec"
      },
      "execution_count": null,
      "outputs": [
        {
          "output_type": "stream",
          "name": "stdout",
          "text": [
            "6\n"
          ]
        }
      ]
    },
    {
      "cell_type": "code",
      "source": [
        "def sieve(n):\n",
        "  prime=[True]*(n+1)\n",
        "  prime[0]=prime[1]=False\n",
        "  p=2\n",
        "  while p*p<=n:\n",
        "    if prime[p]:\n",
        "      for i in range(p*p,n+1,p):\n",
        "        prime[i]=False\n",
        "    p+=1\n",
        "  return [x for x in range(len(n+1)) if prime[x]]\n",
        "\n",
        "print(sieve(30))"
      ],
      "metadata": {
        "colab": {
          "base_uri": "https://localhost:8080/"
        },
        "id": "3IG4Px5QoGmQ",
        "outputId": "399b97ec-809b-415f-c4d4-614fe03cac09"
      },
      "execution_count": null,
      "outputs": [
        {
          "output_type": "stream",
          "name": "stdout",
          "text": [
            "[2, 3, 5, 7, 11, 13, 17, 19, 23, 29]\n"
          ]
        }
      ]
    },
    {
      "cell_type": "code",
      "source": [
        "def searchMatrix(arr, target):\n",
        "  if not arr or not arr[0]:\n",
        "        return False\n",
        "  rows,cols=len(arr),len(arr[0])\n",
        "  low,high=0,rows*cols-1\n",
        "  while low<=high:\n",
        "    mid=(low+high)//2\n",
        "    r,c =divmod(mid,cols)\n",
        "    mid_value=arr[r][c]\n",
        "\n",
        "    if mid_value==target:\n",
        "      return f\"{target} found at row {r}, col {c}\"\n",
        "    elif mid_value<target:\n",
        "      low = mid + 1\n",
        "    else:\n",
        "      high = mid - 1\n",
        "  return \"Not found\"\n",
        "\n",
        "\n",
        "\n",
        "arr = [\n",
        "   [1, 2, 3],   # Row 0\n",
        "   [4, 5, 6],   # Row 1\n",
        "   [7, 8, 9]    # Row 2\n",
        "]\n",
        "\n",
        "print(searchMatrix(arr, 9))\n"
      ],
      "metadata": {
        "colab": {
          "base_uri": "https://localhost:8080/"
        },
        "id": "leiWMEbj2xAz",
        "outputId": "ee42bcd6-b212-471b-bcfe-95e2e6c4acb9"
      },
      "execution_count": null,
      "outputs": [
        {
          "output_type": "stream",
          "name": "stdout",
          "text": [
            "9 found at row 2, col 2\n"
          ]
        }
      ]
    },
    {
      "cell_type": "code",
      "source": [
        "def rotate90(matrix):\n",
        "    n = len(matrix)\n",
        "\n",
        "    # Step 1: Transpose the matrix\n",
        "    for i in range(n):\n",
        "        for j in range(i, n):\n",
        "            matrix[i][j], matrix[j][i] = matrix[j][i], matrix[i][j]\n",
        "\n",
        "    # Step 2: Reverse each row\n",
        "    for i in range(n):\n",
        "        matrix[i].reverse()\n",
        "\n",
        "    return matrix\n",
        "\n",
        "\n",
        "# Example\n",
        "arr = [\n",
        "   [1, 2, 3],\n",
        "   [4, 5, 6],\n",
        "   [7, 8, 9]\n",
        "]\n",
        "\n",
        "rotated = rotate90(arr)\n",
        "for row in rotated:\n",
        "    print(row)\n"
      ],
      "metadata": {
        "colab": {
          "base_uri": "https://localhost:8080/"
        },
        "id": "bgNwhon2DOpx",
        "outputId": "de1aa373-deeb-44f5-c1bc-130b17d0dbc2"
      },
      "execution_count": null,
      "outputs": [
        {
          "output_type": "stream",
          "name": "stdout",
          "text": [
            "[7, 4, 1]\n",
            "[8, 5, 2]\n",
            "[9, 6, 3]\n"
          ]
        }
      ]
    },
    {
      "cell_type": "code",
      "source": [
        "arr = [\n",
        "   [0, 1, 1, 1],   # Row 0 → has 3 ones\n",
        "   [0, 0, 1, 1],   # Row 1 → has 2 ones\n",
        "   [1, 1, 1, 1],   # Row 2 → has 4 ones (maximum)\n",
        "   [0, 0, 0, 0]    # Row 3 → has 0 ones\n",
        "]\n",
        "curr_max=arr[0]\n",
        "count=0\n",
        "for i in range(len(arr)):\n",
        "  for j in range(len(arr[i])):\n",
        "    if arr[i][j]==1:\n",
        "      count+=1\n",
        "    curr_max=max(curr_max,count)\n",
        "print(curr_max)\n",
        "\n"
      ],
      "metadata": {
        "colab": {
          "base_uri": "https://localhost:8080/",
          "height": 211
        },
        "id": "jDCAhh5jHAiL",
        "outputId": "a8c18706-99ae-49db-cf20-7bf2a693e2b8"
      },
      "execution_count": null,
      "outputs": [
        {
          "output_type": "error",
          "ename": "TypeError",
          "evalue": "'>' not supported between instances of 'int' and 'list'",
          "traceback": [
            "\u001b[0;31m---------------------------------------------------------------------------\u001b[0m",
            "\u001b[0;31mTypeError\u001b[0m                                 Traceback (most recent call last)",
            "\u001b[0;32m/tmp/ipython-input-1059778697.py\u001b[0m in \u001b[0;36m<cell line: 0>\u001b[0;34m()\u001b[0m\n\u001b[1;32m     11\u001b[0m     \u001b[0;32mif\u001b[0m \u001b[0marr\u001b[0m\u001b[0;34m[\u001b[0m\u001b[0mi\u001b[0m\u001b[0;34m]\u001b[0m\u001b[0;34m[\u001b[0m\u001b[0mj\u001b[0m\u001b[0;34m]\u001b[0m\u001b[0;34m==\u001b[0m\u001b[0;36m1\u001b[0m\u001b[0;34m:\u001b[0m\u001b[0;34m\u001b[0m\u001b[0;34m\u001b[0m\u001b[0m\n\u001b[1;32m     12\u001b[0m       \u001b[0mcount\u001b[0m\u001b[0;34m+=\u001b[0m\u001b[0;36m1\u001b[0m\u001b[0;34m\u001b[0m\u001b[0;34m\u001b[0m\u001b[0m\n\u001b[0;32m---> 13\u001b[0;31m     \u001b[0mcurr_max\u001b[0m\u001b[0;34m=\u001b[0m\u001b[0mmax\u001b[0m\u001b[0;34m(\u001b[0m\u001b[0mcurr_max\u001b[0m\u001b[0;34m,\u001b[0m\u001b[0mcount\u001b[0m\u001b[0;34m)\u001b[0m\u001b[0;34m\u001b[0m\u001b[0;34m\u001b[0m\u001b[0m\n\u001b[0m\u001b[1;32m     14\u001b[0m \u001b[0mprint\u001b[0m\u001b[0;34m(\u001b[0m\u001b[0mcurr_max\u001b[0m\u001b[0;34m)\u001b[0m\u001b[0;34m\u001b[0m\u001b[0;34m\u001b[0m\u001b[0m\n\u001b[1;32m     15\u001b[0m \u001b[0;34m\u001b[0m\u001b[0m\n",
            "\u001b[0;31mTypeError\u001b[0m: '>' not supported between instances of 'int' and 'list'"
          ]
        }
      ]
    },
    {
      "cell_type": "code",
      "source": [],
      "metadata": {
        "id": "P0bkampbHCwV"
      },
      "execution_count": null,
      "outputs": []
    }
  ]
}